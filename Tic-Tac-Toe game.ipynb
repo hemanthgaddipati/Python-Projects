{
 "cells": [
  {
   "cell_type": "code",
   "execution_count": 1,
   "metadata": {},
   "outputs": [],
   "source": [
    "from IPython.display import clear_output\n",
    "\n",
    "# The argument \"display_board\" in the below function is a list of length 10 first element(display_board[0]) is null.\n",
    "# I choose the length 10 because the 9 cells(3*3) in the game would match the keybord numbers placement(3*3) \n",
    "\n",
    "def game_display(display_board):\n",
    "    clear_output()\n",
    "    \n",
    "    #print('-----------')\n",
    "    #print('   |   |')\n",
    "    print(' ' + display_board[7] + ' | ' + display_board[8] + ' | ' + display_board[9])\n",
    "    #print('   |   |')\n",
    "    print('-----------')\n",
    "    #print('   |   |')\n",
    "    print(' ' + display_board[4] + ' | ' + display_board[5] + ' | ' + display_board[6])\n",
    "    #print('   |   |')\n",
    "    print('-----------')\n",
    "    #print('   |   |')\n",
    "    print(' ' + display_board[1] + ' | ' + display_board[2] + ' | ' + display_board[3])\n",
    "    #print('   |   |')\n",
    "    #print('-----------')"
   ]
  },
  {
   "cell_type": "code",
   "execution_count": 2,
   "metadata": {},
   "outputs": [],
   "source": [
    "def player_marker_input():\n",
    "    player_marker = ''\n",
    "    \n",
    "    while player_marker not in ['X','O']:\n",
    "        player_marker = input(\"Please choose your marker. Choose either X or O to start the game...\").upper()\n",
    "    \n",
    "    if player_marker == 'X':\n",
    "        return ('X','O')\n",
    "    elif player_marker == 'O':\n",
    "        return ('O','X')"
   ]
  },
  {
   "cell_type": "code",
   "execution_count": 3,
   "metadata": {},
   "outputs": [],
   "source": [
    "def marker_position_selection(display_board,player_marker,cell):\n",
    "    display_board[cell] = player_marker"
   ]
  },
  {
   "cell_type": "code",
   "execution_count": 4,
   "metadata": {},
   "outputs": [],
   "source": [
    "def win_combination_check(display_board,marker):\n",
    "    if((display_board[7] == marker and display_board[8] == marker and display_board[9] == marker) or\n",
    "    (display_board[4] == marker and display_board[5] == marker and display_board[6] == marker) or\n",
    "    (display_board[1] == marker and display_board[2] == marker and display_board[3] == marker) or\n",
    "    (display_board[7] == marker and display_board[4] == marker and display_board[1] == marker) or\n",
    "    (display_board[8] == marker and display_board[5] == marker and display_board[2] == marker) or\n",
    "    (display_board[9] == marker and display_board[6] == marker and display_board[3] == marker) or\n",
    "    (display_board[1] == marker and display_board[5] == marker and display_board[9] == marker) or\n",
    "    (display_board[3] == marker and display_board[5] == marker and display_board[7] == marker)):\n",
    "        return True"
   ]
  },
  {
   "cell_type": "code",
   "execution_count": 5,
   "metadata": {},
   "outputs": [],
   "source": [
    "def which_player_goes_first():\n",
    "    player1_marker = ''\n",
    "    while player1_marker not in ['X','O']:\n",
    "        player1_marker = input(\"Please choose and enter player 1 marker from X, O...: \").upper()\n",
    "    if player1_marker == 'X':\n",
    "        return \"Player 1\"\n",
    "    elif player1_marker == 'O':\n",
    "        return \"Player 2\"       "
   ]
  },
  {
   "cell_type": "code",
   "execution_count": 6,
   "metadata": {},
   "outputs": [],
   "source": [
    "def empty_cell_check(display_board,cell):\n",
    "    if display_board[cell] == ' ':\n",
    "        return True\n",
    "    else:\n",
    "        return False"
   ]
  },
  {
   "cell_type": "code",
   "execution_count": 7,
   "metadata": {},
   "outputs": [],
   "source": [
    "def full_board_empty_cell_check(display_board):\n",
    "    for cells in range(1,10):\n",
    "        if empty_cell_check(display_board,cells):\n",
    "            return False\n",
    "    return True"
   ]
  },
  {
   "cell_type": "code",
   "execution_count": 8,
   "metadata": {},
   "outputs": [],
   "source": [
    "def player_cell_selection(display_board):\n",
    "    cell = 0\n",
    "    \n",
    "    while cell not in [1,2,3,4,5,6,7,8,9] or not empty_cell_check(display_board, cell):\n",
    "        cell = int (input(\"Please choose your next position from 1-9 to place your marker :- \"))\n",
    "    return cell"
   ]
  },
  {
   "cell_type": "code",
   "execution_count": 9,
   "metadata": {},
   "outputs": [],
   "source": [
    "def replay():\n",
    "    return input('Do you want to play again? Enter Yes or No: ').lower().startswith('y')"
   ]
  },
  {
   "cell_type": "code",
   "execution_count": 10,
   "metadata": {},
   "outputs": [
    {
     "name": "stdout",
     "output_type": "stream",
     "text": [
      " X | X | O\n",
      "-----------\n",
      " O | X | O\n",
      "-----------\n",
      " X | O | X\n",
      "Congrats Player 1!!! You won the game!\n",
      "Do you want to play again? Enter Yes or No: n\n"
     ]
    }
   ],
   "source": [
    "print(\"Welcome to Tic-Tac-Toe by Hemanth Gaddipati\")\n",
    "while True:\n",
    "    game_board = [' ']*10\n",
    "    player1_marker,player2_marker = player_marker_input()\n",
    "    player_turn = which_player_goes_first()\n",
    "    \n",
    "    print(player_turn +' will start the game')\n",
    "    \n",
    "    #start_game = input(\"Do you want to start the game? choose Y or N\").lower()\n",
    "    start_game = True\n",
    "    if start_game:\n",
    "        game = True\n",
    "    else:\n",
    "        game = False\n",
    "    \n",
    "    while game:\n",
    "        if player_turn == 'Player 1':\n",
    "            game_display(game_board)\n",
    "            cell = player_cell_selection(game_board)\n",
    "            marker_placement = marker_position_selection(game_board,player1_marker,cell)\n",
    "            \n",
    "            if win_combination_check(game_board,player1_marker):\n",
    "                game_display(game_board)\n",
    "                print(\"Congrats Player 1!!! You won the game!\")\n",
    "                game = False\n",
    "            else:\n",
    "                if full_board_empty_cell_check(game_board):\n",
    "                    game_display(game_board)\n",
    "                    print(\"The game ended in a DRAW!!\")\n",
    "                    break\n",
    "                else:\n",
    "                    player_turn = 'Player 2'\n",
    "        else:\n",
    "            game_display(game_board)\n",
    "            cell = player_cell_selection(game_board)\n",
    "            marker_placement = marker_position_selection(game_board,player2_marker,cell)\n",
    "            \n",
    "            if win_combination_check(game_board,player2_marker):\n",
    "                game_display(game_board)\n",
    "                print(\"Congrats Player 2!!! You won the game!\")\n",
    "                game = False\n",
    "            else:\n",
    "                if full_board_empty_cell_check(game_board):\n",
    "                    game_display(game_board)\n",
    "                    print(\"The game ended in a DRAW!!\")\n",
    "                    break\n",
    "                else:\n",
    "                    player_turn = 'Player 1'\n",
    "                    \n",
    "    if not replay():\n",
    "        break            "
   ]
  }
 ],
 "metadata": {
  "kernelspec": {
   "display_name": "Python 3",
   "language": "python",
   "name": "python3"
  },
  "language_info": {
   "codemirror_mode": {
    "name": "ipython",
    "version": 3
   },
   "file_extension": ".py",
   "mimetype": "text/x-python",
   "name": "python",
   "nbconvert_exporter": "python",
   "pygments_lexer": "ipython3",
   "version": "3.7.4"
  }
 },
 "nbformat": 4,
 "nbformat_minor": 2
}
